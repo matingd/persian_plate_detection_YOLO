{
 "cells": [
  {
   "cell_type": "code",
   "execution_count": 1,
   "metadata": {},
   "outputs": [],
   "source": [
    "import cv2 as cv\n",
    "from ultralytics import YOLO\n",
    "import cvzone\n",
    "import matplotlib.pyplot as plt\n",
    "import numpy as np"
   ]
  },
  {
   "cell_type": "code",
   "execution_count": 2,
   "metadata": {},
   "outputs": [],
   "source": [
    "classes_dict =  {\n",
    "            '0':'0',\n",
    "            '1':'1',\n",
    "            '2':'2',\n",
    "            '3':'3',\n",
    "            '4':'4',\n",
    "            '5':'5',\n",
    "            '6':'6',\n",
    "            '7':'7',\n",
    "            '8':'8',\n",
    "            '9':'9',\n",
    "            '10':'b',\n",
    "            '11':'C',\n",
    "            '12':'d',\n",
    "            '13':'G',\n",
    "            '14':'H',\n",
    "            '15':'J',\n",
    "            '16':'l',\n",
    "            '17':'m',\n",
    "            '18':'n',\n",
    "            '19':'S',\n",
    "            '20':'T',\n",
    "            '21':'v',\n",
    "            '22':'y'\n",
    "            }"
   ]
  },
  {
   "cell_type": "code",
   "execution_count": 3,
   "metadata": {},
   "outputs": [],
   "source": [
    "plate_detector_model = YOLO('plate_detector.pt')\n",
    "digits_detector_model = YOLO('digits_detector.pt')"
   ]
  },
  {
   "cell_type": "code",
   "execution_count": 4,
   "metadata": {},
   "outputs": [],
   "source": [
    "def find_plate(image , information):\n",
    "    for r in information:\n",
    "        if len(r.obb.data) != 0:\n",
    "            for box in r.obb.data:\n",
    "                x_center, y_center, width, height, angle, confidence, class_id = box\n",
    "                x_center, y_center, width, height, angle = float(x_center), float(y_center), float(width), float(height), float(angle)\n",
    "\n",
    "                rect = ((x_center, y_center), (width, height), np.degrees(angle))\n",
    "                box_points = cv.boxPoints(rect)\n",
    "                box_points = np.intp(box_points)\n",
    "\n",
    "                #cv.drawContours(image, [box_points], 0, (0, 255, 0), 5)\n",
    "                plate_image = image[int(y_center) - int(height / 2) : int(y_center) + int(height / 2) , int(x_center) - int(width / 2) : int(x_center) + int(width / 2) , ...]\n",
    "                return plate_image , True\n",
    "        else:\n",
    "            return None , False\n"
   ]
  },
  {
   "cell_type": "code",
   "execution_count": 5,
   "metadata": {},
   "outputs": [],
   "source": [
    "def detect_digits(image , information):\n",
    "    digits_dict = {}\n",
    "    for r in information:\n",
    "        boxes = r.boxes\n",
    "        for box in boxes:\n",
    "            x1, y1, x2, y2 = box.xyxy[0]\n",
    "            x1, y1, x2, y2 = int(x1), int(y1), int(x2), int(y2)\n",
    "            cv.rectangle(image, (x1, y1) ,(x2, y2), (0, 255, 0), 2)\n",
    "            cls = int(box.cls[0])\n",
    "            #cv.putText(image , classes_dict[str(cls)] , (x1 , y1 + (y2 // 2)) , cv.FONT_HERSHEY_COMPLEX , 0.5 , (255,0,255) , 2)\n",
    "            digits_dict[x1] = classes_dict[str(cls)]\n",
    "    return image , digits_dict"
   ]
  },
  {
   "cell_type": "code",
   "execution_count": null,
   "metadata": {},
   "outputs": [],
   "source": [
    "pelak = cv.imread('plate.png')\n",
    "pelak = cv.cvtColor(pelak , cv.COLOR_BGR2RGB)\n",
    "pelak = cv.resize(pelak , dsize=(250 , 60))\n",
    "\n",
    "video = cv.VideoCapture(0)\n",
    "while True:\n",
    "    ok , frame = video.read()\n",
    "    if not ok:\n",
    "        break\n",
    "    \n",
    "    frame = cv.cvtColor(frame , cv.COLOR_BGR2RGB)\n",
    "\n",
    "    plate_detected = plate_detector_model(frame , conf=0.5)\n",
    "\n",
    "    plate_detected_image , situation = find_plate(frame , plate_detected)\n",
    "    if situation:\n",
    "        digits_detected = digits_detector_model(plate_detected_image , conf=0.2)\n",
    "        digits_detected_image , digits_dict = detect_digits(plate_detected_image , digits_detected)\n",
    "        x = 27\n",
    "        y = 40\n",
    "        frame[0:pelak.shape[0] , 0:pelak.shape[1] , ...] = pelak\n",
    "        for i in sorted(digits_dict):\n",
    "            cv.putText(frame , digits_dict[i] , (x  , y) , cv.FONT_HERSHEY_COMPLEX , 0.8 , (0,0,0) , 2)\n",
    "            x += 28\n",
    "        \n",
    "        cv.imshow('frame', cv.cvtColor(frame , cv.COLOR_RGB2BGR))\n",
    "    else:\n",
    "        frame[0:pelak.shape[0] , 0:pelak.shape[1] , ...] = pelak\n",
    "        cv.imshow('frame' , cv.cvtColor(frame , cv.COLOR_RGB2BGR))\n",
    "    \n",
    "    if cv.waitKey(1) & 0xff == ord('q'):\n",
    "        break\n",
    "\n",
    "cv.destroyAllWindows()\n",
    "video.release()"
   ]
  }
 ],
 "metadata": {
  "kernelspec": {
   "display_name": "object_detection",
   "language": "python",
   "name": "python3"
  },
  "language_info": {
   "codemirror_mode": {
    "name": "ipython",
    "version": 3
   },
   "file_extension": ".py",
   "mimetype": "text/x-python",
   "name": "python",
   "nbconvert_exporter": "python",
   "pygments_lexer": "ipython3",
   "version": "3.12.3"
  }
 },
 "nbformat": 4,
 "nbformat_minor": 2
}
